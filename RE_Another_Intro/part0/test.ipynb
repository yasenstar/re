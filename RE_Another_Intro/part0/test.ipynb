{
 "cells": [
  {
   "cell_type": "code",
   "execution_count": 11,
   "id": "58d9fdd2",
   "metadata": {},
   "outputs": [
    {
     "data": {
      "text/plain": [
       "True"
      ]
     },
     "execution_count": 11,
     "metadata": {},
     "output_type": "execute_result"
    }
   ],
   "source": [
    "import re\n",
    "\n",
    "def isDigit(ch):\n",
    "    return re.search(ch, \"[0123456789]\") != None\n",
    "isDigit(\"4\")\n"
   ]
  },
  {
   "cell_type": "code",
   "execution_count": 16,
   "id": "464e2f4b",
   "metadata": {},
   "outputs": [
    {
     "data": {
      "text/plain": [
       "False"
      ]
     },
     "execution_count": 16,
     "metadata": {},
     "output_type": "execute_result"
    }
   ],
   "source": [
    "def isPhoneNumber(str):\n",
    "    return re.search(str, \"[123456789][0123456789]{6,7}\") != None\n",
    "\n",
    "isPhoneNumber(\"6411111\")"
   ]
  },
  {
   "cell_type": "code",
   "execution_count": null,
   "id": "3a4ecfcc",
   "metadata": {},
   "outputs": [],
   "source": []
  }
 ],
 "metadata": {
  "kernelspec": {
   "display_name": "base",
   "language": "python",
   "name": "python3"
  },
  "language_info": {
   "codemirror_mode": {
    "name": "ipython",
    "version": 3
   },
   "file_extension": ".py",
   "mimetype": "text/x-python",
   "name": "python",
   "nbconvert_exporter": "python",
   "pygments_lexer": "ipython3",
   "version": "3.12.7"
  }
 },
 "nbformat": 4,
 "nbformat_minor": 5
}
